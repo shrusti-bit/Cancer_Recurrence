{
 "cells": [
  {
   "cell_type": "code",
   "execution_count": 1,
   "id": "247dcf1a-8486-4179-942f-56bd29f79183",
   "metadata": {},
   "outputs": [
    {
     "name": "stdout",
     "output_type": "stream",
     "text": [
      "--- Initial Data Load (Head) ---\n",
      "   Age Gender Smoking Hx Smoking Hx Radiothreapy Thyroid Function  \\\n",
      "0   27      F      No         No              No        Euthyroid   \n",
      "1   34      F      No        Yes              No        Euthyroid   \n",
      "2   30      F      No         No              No        Euthyroid   \n",
      "3   62      F      No         No              No        Euthyroid   \n",
      "4   62      F      No         No              No        Euthyroid   \n",
      "\n",
      "          Physical Examination Adenopathy       Pathology     Focality Risk  \\\n",
      "0   Single nodular goiter-left         No  Micropapillary    Uni-Focal  Low   \n",
      "1          Multinodular goiter         No  Micropapillary    Uni-Focal  Low   \n",
      "2  Single nodular goiter-right         No  Micropapillary    Uni-Focal  Low   \n",
      "3  Single nodular goiter-right         No  Micropapillary    Uni-Focal  Low   \n",
      "4          Multinodular goiter         No  Micropapillary  Multi-Focal  Low   \n",
      "\n",
      "     T   N   M Stage       Response Recurred  \n",
      "0  T1a  N0  M0     I  Indeterminate       No  \n",
      "1  T1a  N0  M0     I      Excellent       No  \n",
      "2  T1a  N0  M0     I      Excellent       No  \n",
      "3  T1a  N0  M0     I      Excellent       No  \n",
      "4  T1a  N0  M0     I      Excellent       No  \n",
      "\n",
      "--- Data Info (Check for Missing Values) ---\n",
      "<class 'pandas.core.frame.DataFrame'>\n",
      "RangeIndex: 383 entries, 0 to 382\n",
      "Data columns (total 17 columns):\n",
      " #   Column                Non-Null Count  Dtype \n",
      "---  ------                --------------  ----- \n",
      " 0   Age                   383 non-null    int64 \n",
      " 1   Gender                383 non-null    object\n",
      " 2   Smoking               383 non-null    object\n",
      " 3   Hx Smoking            383 non-null    object\n",
      " 4   Hx Radiothreapy       383 non-null    object\n",
      " 5   Thyroid Function      383 non-null    object\n",
      " 6   Physical Examination  383 non-null    object\n",
      " 7   Adenopathy            383 non-null    object\n",
      " 8   Pathology             383 non-null    object\n",
      " 9   Focality              383 non-null    object\n",
      " 10  Risk                  383 non-null    object\n",
      " 11  T                     383 non-null    object\n",
      " 12  N                     383 non-null    object\n",
      " 13  M                     383 non-null    object\n",
      " 14  Stage                 383 non-null    object\n",
      " 15  Response              383 non-null    object\n",
      " 16  Recurred              383 non-null    object\n",
      "dtypes: int64(1), object(16)\n",
      "memory usage: 51.0+ KB\n"
     ]
    }
   ],
   "source": [
    "# 1. Import essential data handling and numerical libraries\n",
    "import pandas as pd\n",
    "import numpy as np\n",
    "\n",
    "# 2. Load the CSV file into a DataFrame (the main data table)\n",
    "# ***MAKE SURE 'Thyroid_Diff.csv' is in the same folder as this notebook!***\n",
    "df = pd.read_csv('Thyroid_Diff.csv')\n",
    "\n",
    "# 3. Check the first few rows to confirm the data loaded\n",
    "print(\"--- Initial Data Load (Head) ---\")\n",
    "print(df.head())\n",
    "print(\"\\n--- Data Info (Check for Missing Values) ---\")\n",
    "# 4. Check for missing values (Non-Null Count should equal 383)\n",
    "df.info()"
   ]
  },
  {
   "cell_type": "code",
   "execution_count": 2,
   "id": "544fa50d-3d5b-4e69-861b-8498e35ee1ca",
   "metadata": {},
   "outputs": [
    {
     "name": "stdout",
     "output_type": "stream",
     "text": [
      "--- Target Variable Split (y) ---\n",
      "Recurred\n",
      "0    0.718016\n",
      "1    0.281984\n",
      "Name: proportion, dtype: float64\n"
     ]
    }
   ],
   "source": [
    "# Code Cell #2: Target Variable (y) Encoding\n",
    "\n",
    "# 1. Encode the target variable: 'No' -> 0, 'Yes' -> 1\n",
    "y = df['Recurred'].map({'No': 0, 'Yes': 1})\n",
    "\n",
    "# 2. Print the Recurrence ratio (this confirms your class imbalance challenge)\n",
    "print(\"--- Target Variable Split (y) ---\")\n",
    "print(y.value_counts(normalize=True))"
   ]
  },
  {
   "cell_type": "code",
   "execution_count": 3,
   "id": "0794d955-7482-4e92-885a-1811245d3744",
   "metadata": {},
   "outputs": [
    {
     "name": "stdout",
     "output_type": "stream",
     "text": [
      "\n",
      "--- Feature Engineering Result ---\n",
      "Original Features: 15\n",
      "Final Encoded Features: 39\n",
      "First 5 rows of ENCODED features (showing only 0s and 1s now):\n",
      "   Gender_M  Smoking_Yes  Hx Smoking_Yes  Hx Radiothreapy_Yes  \\\n",
      "0     False        False           False                False   \n",
      "1     False        False            True                False   \n",
      "2     False        False           False                False   \n",
      "3     False        False           False                False   \n",
      "4     False        False           False                False   \n",
      "\n",
      "   Thyroid Function_Clinical Hypothyroidism  Thyroid Function_Euthyroid  \\\n",
      "0                                     False                        True   \n",
      "1                                     False                        True   \n",
      "2                                     False                        True   \n",
      "3                                     False                        True   \n",
      "4                                     False                        True   \n",
      "\n",
      "   Thyroid Function_Subclinical Hyperthyroidism  \\\n",
      "0                                         False   \n",
      "1                                         False   \n",
      "2                                         False   \n",
      "3                                         False   \n",
      "4                                         False   \n",
      "\n",
      "   Thyroid Function_Subclinical Hypothyroidism  \\\n",
      "0                                        False   \n",
      "1                                        False   \n",
      "2                                        False   \n",
      "3                                        False   \n",
      "4                                        False   \n",
      "\n",
      "   Physical Examination_Multinodular goiter  Physical Examination_Normal  ...  \\\n",
      "0                                     False                        False  ...   \n",
      "1                                      True                        False  ...   \n",
      "2                                     False                        False  ...   \n",
      "3                                     False                        False  ...   \n",
      "4                                      True                        False  ...   \n",
      "\n",
      "   N_N1a  N_N1b   M_M1  Stage_II  Stage_III  Stage_IVA  Stage_IVB  \\\n",
      "0  False  False  False     False      False      False      False   \n",
      "1  False  False  False     False      False      False      False   \n",
      "2  False  False  False     False      False      False      False   \n",
      "3  False  False  False     False      False      False      False   \n",
      "4  False  False  False     False      False      False      False   \n",
      "\n",
      "   Response_Excellent  Response_Indeterminate  Response_Structural Incomplete  \n",
      "0               False                    True                           False  \n",
      "1                True                   False                           False  \n",
      "2                True                   False                           False  \n",
      "3                True                   False                           False  \n",
      "4                True                   False                           False  \n",
      "\n",
      "[5 rows x 39 columns]\n"
     ]
    }
   ],
   "source": [
    "# Code Cell #3: Input Features (X) Encoding\n",
    "\n",
    "# 1. Create the Feature Matrix (X) by dropping the target and the first ID column (df.columns[0] is assumed to be ID/index, as it has no name)\n",
    "X = df.drop(['Recurred', df.columns[0]], axis=1)\n",
    "\n",
    "# 2. Apply One-Hot Encoding: Convert all text columns into new 0/1 columns.\n",
    "# drop_first=True prevents a multicollinearity issue (a small optimization).\n",
    "X_encoded = pd.get_dummies(X, drop_first=True)\n",
    "\n",
    "# 3. Check the final dimensions of the engineered feature set\n",
    "print(\"\\n--- Feature Engineering Result ---\")\n",
    "print(f\"Original Features: {X.shape[1]}\")\n",
    "print(f\"Final Encoded Features: {X_encoded.shape[1]}\")\n",
    "print(\"First 5 rows of ENCODED features (showing only 0s and 1s now):\")\n",
    "print(X_encoded.head())"
   ]
  },
  {
   "cell_type": "code",
   "execution_count": 4,
   "id": "7a1d1a87-cbbc-48a6-bf3b-947b61ec1933",
   "metadata": {},
   "outputs": [
    {
     "name": "stdout",
     "output_type": "stream",
     "text": [
      "\n",
      "--- Data Splitting Complete ---\n",
      "Training Patients (80%): 306\n",
      "Testing Patients (20%): 77\n"
     ]
    }
   ],
   "source": [
    "# Code Cell #4: Data Splitting (Train/Test)\n",
    "\n",
    "from sklearn.model_selection import train_test_split\n",
    "\n",
    "# Splitting the data: 80% Train, 20% Test, stratified by 'y'\n",
    "X_train, X_test, y_train, y_test = train_test_split(\n",
    "    X_encoded, y, \n",
    "    test_size=0.2,    \n",
    "    random_state=42,  # Ensures repeatable results (professional standard)\n",
    "    stratify=y        # Keeps the Recurrence ratio consistent in both sets\n",
    ")\n",
    "\n",
    "print(\"\\n--- Data Splitting Complete ---\")\n",
    "print(f\"Training Patients (80%): {X_train.shape[0]}\")\n",
    "print(f\"Testing Patients (20%): {X_test.shape[0]}\")"
   ]
  },
  {
   "cell_type": "code",
   "execution_count": 5,
   "id": "883e1fd6-2423-4f9b-a449-baa6397c4bfc",
   "metadata": {},
   "outputs": [
    {
     "name": "stdout",
     "output_type": "stream",
     "text": [
      "\n",
      "--- Data Scaling Complete ---\n",
      "Features are standardized and ready for ML training!\n"
     ]
    }
   ],
   "source": [
    "# Code Cell #5: Feature Scaling\n",
    "\n",
    "from sklearn.preprocessing import StandardScaler\n",
    "\n",
    "# Initialize the scaler\n",
    "scaler = StandardScaler()\n",
    "\n",
    "# 1. FIT (learn the mean/std) and TRANSFORM (apply the scaling) on the training data\n",
    "X_train_scaled = scaler.fit_transform(X_train)\n",
    "\n",
    "# 2. TRANSFORM the testing data using the parameters learned from training data\n",
    "X_test_scaled = scaler.transform(X_test)\n",
    "\n",
    "print(\"\\n--- Data Scaling Complete ---\")\n",
    "print(\"Features are standardized and ready for ML training!\")"
   ]
  },
  {
   "cell_type": "code",
   "execution_count": 6,
   "id": "cb17508c-5f3b-41c3-9815-bac49714baa5",
   "metadata": {},
   "outputs": [
    {
     "name": "stdout",
     "output_type": "stream",
     "text": [
      "\n",
      "--- Starting Model Training and Evaluation ---\n",
      "\n",
      "** Training Logistic Regression... **\n",
      "  AUC: 0.9752, F1-Score: 0.9302\n",
      "** Training SVM (Support Vector Machine)... **\n",
      "  AUC: 0.9860, F1-Score: 0.9302\n",
      "** Training Random Forest... **\n",
      "  AUC: 0.9959, F1-Score: 0.9268\n",
      "** Training XGBoost... **\n",
      "  AUC: 0.9901, F1-Score: 0.9524\n",
      "\n",
      "--- FINAL MODEL COMPARISON TABLE ---\n",
      "                                   AUC  F1-Score  Accuracy\n",
      "Random Forest                 0.995868  0.926829  0.961039\n",
      "XGBoost                       0.990083  0.952381  0.974026\n",
      "SVM (Support Vector Machine)  0.985950  0.930233  0.961039\n",
      "Logistic Regression           0.975207  0.930233  0.961039\n"
     ]
    },
    {
     "name": "stderr",
     "output_type": "stream",
     "text": [
      "C:\\Users\\DarkAltair\\anaconda3\\Lib\\site-packages\\xgboost\\training.py:183: UserWarning: [22:10:40] WARNING: C:\\actions-runner\\_work\\xgboost\\xgboost\\src\\learner.cc:738: \n",
      "Parameters: { \"use_label_encoder\" } are not used.\n",
      "\n",
      "  bst.update(dtrain, iteration=i, fobj=obj)\n"
     ]
    }
   ],
   "source": [
    "# Code Cell #6: Model Setup and Training\n",
    "\n",
    "from sklearn.linear_model import LogisticRegression\n",
    "from sklearn.svm import SVC\n",
    "from sklearn.ensemble import RandomForestClassifier\n",
    "from xgboost import XGBClassifier \n",
    "\n",
    "from sklearn.metrics import roc_auc_score, f1_score, accuracy_score\n",
    "import pandas as pd # Re-import pandas for the final results table\n",
    "\n",
    "# Define the models to test (using random_state=42 for reproducibility)\n",
    "models = {\n",
    "    'Logistic Regression': LogisticRegression(random_state=42, solver='liblinear'),\n",
    "    'SVM (Support Vector Machine)': SVC(random_state=42, probability=True),\n",
    "    'Random Forest': RandomForestClassifier(random_state=42),\n",
    "    'XGBoost': XGBClassifier(random_state=42, use_label_encoder=False, eval_metric='logloss')\n",
    "}\n",
    "\n",
    "print(\"\\n--- Starting Model Training and Evaluation ---\\n\")\n",
    "results = {}\n",
    "\n",
    "# Loop through each model to train and test it\n",
    "for name, model in models.items():\n",
    "    print(f\"** Training {name}... **\")\n",
    "    \n",
    "    # Train the model using the SCALED training data\n",
    "    model.fit(X_train_scaled, y_train)\n",
    "    \n",
    "    # Predict Probabilities (for AUC) and Labels (for F1/Accuracy)\n",
    "    y_pred_proba = model.predict_proba(X_test_scaled)[:, 1]\n",
    "    y_pred_label = model.predict(X_test_scaled)\n",
    "    \n",
    "    # Calculate performance metrics\n",
    "    current_auc = roc_auc_score(y_test, y_pred_proba)\n",
    "    current_f1 = f1_score(y_test, y_pred_label)\n",
    "    current_accuracy = accuracy_score(y_test, y_pred_label)\n",
    "    \n",
    "    # Store and print results\n",
    "    results[name] = {'AUC': current_auc, 'F1-Score': current_f1, 'Accuracy': current_accuracy}\n",
    "    \n",
    "    print(f\"  AUC: {current_auc:.4f}, F1-Score: {current_f1:.4f}\")\n",
    "\n",
    "# Display a final comparison table\n",
    "results_df = pd.DataFrame(results).T\n",
    "print(\"\\n--- FINAL MODEL COMPARISON TABLE ---\")\n",
    "print(results_df.sort_values(by='AUC', ascending=False))"
   ]
  },
  {
   "cell_type": "code",
   "execution_count": 7,
   "id": "d27d4fef-09e8-4cbe-8614-1e76b3b39565",
   "metadata": {},
   "outputs": [
    {
     "name": "stdout",
     "output_type": "stream",
     "text": [
      "\n",
      "** Starting Grid Search (Optimizing XGBoost settings)... **\n",
      "Fitting 5 folds for each of 8 candidates, totalling 40 fits\n",
      "\n",
      "--- Grid Search Optimization Complete ---\n",
      "Best F1-Score achieved on Validation Folds: 0.9353\n",
      "Best Parameters found: {'learning_rate': 0.1, 'max_depth': 5, 'n_estimators': 100}\n"
     ]
    },
    {
     "name": "stderr",
     "output_type": "stream",
     "text": [
      "C:\\Users\\DarkAltair\\anaconda3\\Lib\\site-packages\\xgboost\\training.py:183: UserWarning: [22:10:45] WARNING: C:\\actions-runner\\_work\\xgboost\\xgboost\\src\\learner.cc:738: \n",
      "Parameters: { \"use_label_encoder\" } are not used.\n",
      "\n",
      "  bst.update(dtrain, iteration=i, fobj=obj)\n"
     ]
    }
   ],
   "source": [
    "# Code Cell #7: Hyper-parameter Tuning (Grid Search)\n",
    "\n",
    "from sklearn.model_selection import GridSearchCV\n",
    "from xgboost import XGBClassifier\n",
    "\n",
    "# 1. Define the parameters (settings) to test\n",
    "# These settings control model complexity and learning speed.\n",
    "param_grid = {\n",
    "    'n_estimators': [100, 200],  # Number of decision trees\n",
    "    'max_depth': [3, 5],         # Maximum depth of each tree\n",
    "    'learning_rate': [0.01, 0.1], # Step size shrinkage (helps prevent overfitting)\n",
    "}\n",
    "\n",
    "# 2. Initialize the model and the search object\n",
    "xgb = XGBClassifier(random_state=42, use_label_encoder=False, eval_metric='logloss')\n",
    "\n",
    "# GridSearchCV will test every combination defined in param_grid (Grid) using 5-fold Cross-Validation (cv=5) \n",
    "# We focus on maximizing the F1-Score, which is best for your imbalanced data.\n",
    "grid_search = GridSearchCV(\n",
    "    estimator=xgb, \n",
    "    param_grid=param_grid, \n",
    "    scoring='f1', \n",
    "    cv=5, \n",
    "    verbose=2, \n",
    "    n_jobs=-1 # Uses all processor cores to speed up the process\n",
    ")\n",
    "\n",
    "print(\"\\n** Starting Grid Search (Optimizing XGBoost settings)... **\")\n",
    "\n",
    "# 3. Execute the Grid Search on the Training Data\n",
    "grid_search.fit(X_train_scaled, y_train)\n",
    "\n",
    "# 4. Get the best results\n",
    "best_xgb = grid_search.best_estimator_\n",
    "best_score = grid_search.best_score_ # The F1-Score achieved during validation\n",
    "\n",
    "print(\"\\n--- Grid Search Optimization Complete ---\")\n",
    "print(f\"Best F1-Score achieved on Validation Folds: {best_score:.4f}\")\n",
    "print(f\"Best Parameters found: {grid_search.best_params_}\")"
   ]
  },
  {
   "cell_type": "code",
   "execution_count": 8,
   "id": "61d56e23-332f-4533-b884-f03dceee737e",
   "metadata": {},
   "outputs": [
    {
     "name": "stdout",
     "output_type": "stream",
     "text": [
      "\n",
      "--- FINAL OPTIMIZED MODEL PERFORMANCE (on UNSEEN Test Data) ---\n",
      "** Optimized AUC: 0.9942 **\n",
      "** Optimized F1-Score: 0.9524 **\n",
      "** Optimized Accuracy: 0.9740 **\n"
     ]
    }
   ],
   "source": [
    "# Code Cell #8: Final Evaluation on UNSEEN Test Data\n",
    "\n",
    "from sklearn.metrics import roc_auc_score, f1_score, accuracy_score\n",
    "\n",
    "# 1. Make predictions on the UNSEEN Test Set using the optimized model\n",
    "y_pred_proba_final = best_xgb.predict_proba(X_test_scaled)[:, 1]\n",
    "y_pred_label_final = best_xgb.predict(X_test_scaled)\n",
    "\n",
    "# 2. Calculate the final, definitive metrics\n",
    "final_auc = roc_auc_score(y_test, y_pred_proba_final)\n",
    "final_f1 = f1_score(y_test, y_pred_label_final)\n",
    "final_accuracy = accuracy_score(y_test, y_pred_label_final)\n",
    "\n",
    "print(\"\\n--- FINAL OPTIMIZED MODEL PERFORMANCE (on UNSEEN Test Data) ---\")\n",
    "print(f\"** Optimized AUC: {final_auc:.4f} **\")\n",
    "print(f\"** Optimized F1-Score: {final_f1:.4f} **\")\n",
    "print(f\"** Optimized Accuracy: {final_accuracy:.4f} **\")"
   ]
  },
  {
   "cell_type": "code",
   "execution_count": 9,
   "id": "00b6f778-e030-4e18-aa96-244b05837e75",
   "metadata": {},
   "outputs": [
    {
     "name": "stdout",
     "output_type": "stream",
     "text": [
      "\n",
      "** Starting SHAP Analysis (Explaining the Optimized XGBoost Model) **\n",
      "\n",
      "--- Generating SHAP Summary Plot... (Top Features) ---\n"
     ]
    },
    {
     "data": {
      "image/png": "[encoded data removed]",
      "text/plain": [
       "<Figure size 800x950 with 1 Axes>"
      ]
     },
     "metadata": {},
     "output_type": "display_data"
    }
   ],
   "source": [
    "# Code Cell #9: SHAP Global Feature Importance\n",
    "\n",
    "import shap\n",
    "\n",
    "print(\"\\n** Starting SHAP Analysis (Explaining the Optimized XGBoost Model) **\")\n",
    "\n",
    "# 1. Create a SHAP Explainer using the optimized XGBoost model\n",
    "explainer = shap.Explainer(best_xgb, X_train_scaled)\n",
    "\n",
    "# 2. Calculate SHAP values for the ENTIRE test set (77 patients)\n",
    "shap_values = explainer(X_test_scaled)\n",
    "\n",
    "# 3. Create the SHAP Summary Plot (This shows the Top 10 most important features)\n",
    "# This plot will be the most valuable visual for your CV/LinkedIn.\n",
    "print(\"\\n--- Generating SHAP Summary Plot... (Top Features) ---\")\n",
    "shap.summary_plot(shap_values, X_test, feature_names=X_test.columns, plot_type=\"bar\")"
   ]
  },
  {
   "cell_type": "code",
   "execution_count": 10,
   "id": "7c819a9f-dc28-467a-9531-643d8ee1e82d",
   "metadata": {},
   "outputs": [
    {
     "name": "stdout",
     "output_type": "stream",
     "text": [
      "Model and Scaler successfully saved as .joblib files in your project folder!\n"
     ]
    }
   ],
   "source": [
    "# Code Cell #10: Save the optimized model and scaler for deployment\n",
    "\n",
    "import joblib\n",
    "\n",
    "# 1. Save the final optimized XGBoost model\n",
    "joblib.dump(best_xgb, 'optimized_xgb_model.joblib')\n",
    "\n",
    "# 2. Save the StandardScaler object (essential for scaling new user input)\n",
    "joblib.dump(scaler, 'fitted_scaler.joblib')\n",
    "\n",
    "print(\"Model and Scaler successfully saved as .joblib files in your project folder!\")"
   ]
  },
  {
   "cell_type": "code",
   "execution_count": 11,
   "id": "d6a07b22-b623-478d-aba6-08c4ac3a426d",
   "metadata": {},
   "outputs": [
    {
     "name": "stdout",
     "output_type": "stream",
     "text": [
      "\\n--- Starting Fairness & Bias Audit ---\n",
      "\\n** Metrics by Gender **\n",
      "        accuracy  precision    recall\n",
      "Gender                               \n",
      "F       0.983333        1.0  0.923077\n",
      "M       0.941176        1.0  0.888889\n",
      "\\n** Metrics by Age Group **\n",
      "             accuracy  precision    recall\n",
      "Age Group                                 \n",
      "Middle-Aged  1.000000        1.0  1.000000\n",
      "Senior       1.000000        1.0  1.000000\n",
      "Young        0.954545        1.0  0.777778\n",
      "\\nFairness metrics saved to CSV files for dashboard use.\n"
     ]
    }
   ],
   "source": [
    "# Code Cell #11: Fairness and Bias Audit with Fairlearn\n",
    "\n",
    "from fairlearn.metrics import MetricFrame, demographic_parity_difference, equalized_odds_difference\n",
    "from sklearn.metrics import accuracy_score, precision_score, recall_score\n",
    "import json\n",
    "\n",
    "print(\"\\\\n--- Starting Fairness & Bias Audit ---\")\n",
    "\n",
    "# We need the original, un-encoded sensitive features from the test set\n",
    "# The indices of y_test match the original dataframe before splitting\n",
    "sensitive_features_test = df.loc[y_test.index]\n",
    "\n",
    "# Define metrics we want to check\n",
    "metrics = {\n",
    "    'accuracy': accuracy_score,\n",
    "    'precision': precision_score,\n",
    "    'recall': recall_score\n",
    "}\n",
    "\n",
    "# --- 1. Gender Bias Analysis ---\n",
    "gender_grouped = MetricFrame(metrics=metrics,\n",
    "                             y_true=y_test,\n",
    "                             y_pred=y_pred_label_final,\n",
    "                             sensitive_features=sensitive_features_test['Gender'])\n",
    "\n",
    "gender_metrics_by_group = gender_grouped.by_group\n",
    "print(\"\\\\n** Metrics by Gender **\")\n",
    "print(gender_metrics_by_group)\n",
    "\n",
    "# --- 2. Age Bias Analysis (by binning Age) ---\n",
    "# Create age bins to analyze different age groups\n",
    "sensitive_features_test['Age Group'] = pd.cut(sensitive_features_test['Age'], bins=[0, 40, 60, 100], labels=['Young', 'Middle-Aged', 'Senior'])\n",
    "\n",
    "age_grouped = MetricFrame(metrics=metrics,\n",
    "                          y_true=y_test,\n",
    "                          y_pred=y_pred_label_final,\n",
    "                          sensitive_features=sensitive_features_test['Age Group'])\n",
    "\n",
    "age_metrics_by_group = age_grouped.by_group\n",
    "print(\"\\\\n** Metrics by Age Group **\")\n",
    "print(age_metrics_by_group)\n",
    "\n",
    "# Save the results to be used in the Streamlit App\n",
    "gender_metrics_by_group.to_csv('gender_fairness_metrics.csv')\n",
    "age_metrics_by_group.to_csv('age_fairness_metrics.csv')\n",
    "\n",
    "print(\"\\\\nFairness metrics saved to CSV files for dashboard use.\")"
   ]
  },
  {
   "cell_type": "code",
   "execution_count": null,
   "id": "c1da7663-ac2e-4ccb-9457-8f993ee3e617",
   "metadata": {},
   "outputs": [],
   "source": []
  }
 ],
 "metadata": {
  "kernelspec": {
   "display_name": "Python 3 (ipykernel)",
   "language": "python",
   "name": "python3"
  },
  "language_info": {
   "codemirror_mode": {
    "name": "ipython",
    "version": 3
   },
   "file_extension": ".py",
   "mimetype": "text/x-python",
   "name": "python",
   "nbconvert_exporter": "python",
   "pygments_lexer": "ipython3",
   "version": "3.13.5"
  }
 },
 "nbformat": 4,
 "nbformat_minor": 5
}
